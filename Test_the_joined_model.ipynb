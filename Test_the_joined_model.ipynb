{
 "cells": [
  {
   "cell_type": "markdown",
   "id": "29395a50",
   "metadata": {},
   "source": [
    "# Preparations"
   ]
  },
  {
   "cell_type": "code",
   "execution_count": null,
   "id": "03084344",
   "metadata": {},
   "outputs": [],
   "source": [
    "import pandas as pd\n",
    "import re,string\n",
    "import numpy as np\n",
    "from tqdm import tqdm\n",
    "import pickle\n",
    "import math\n",
    "import matplotlib.pyplot as plt"
   ]
  },
  {
   "cell_type": "code",
   "execution_count": null,
   "id": "779c1564",
   "metadata": {},
   "outputs": [],
   "source": [
    "from sklearn.metrics import confusion_matrix, roc_curve, auc"
   ]
  },
  {
   "cell_type": "code",
   "execution_count": null,
   "id": "e1b6bb9e",
   "metadata": {},
   "outputs": [],
   "source": [
    "import tensorflow as tf\n",
    "# tf.keras.backend.set_floatx('float16')\n",
    "gpus = tf.config.experimental.list_physical_devices('GPU')\n",
    "if gpus:\n",
    "    try:\n",
    "        # Currently, memory growth needs to be the same across GPUs\n",
    "        for gpu in gpus:\n",
    "            tf.config.experimental.set_memory_growth(gpu, True)\n",
    "        logical_gpus = tf.config.experimental.list_logical_devices('GPU')\n",
    "        print(len(gpus), \"Physical GPUs,\", len(logical_gpus), \"Logical GPUs\")\n",
    "    except RuntimeError as e:\n",
    "        # Memory growth must be set before GPUs have been initialized\n",
    "        print(e)"
   ]
  },
  {
   "cell_type": "code",
   "execution_count": null,
   "id": "7c738290",
   "metadata": {},
   "outputs": [],
   "source": [
    "train_data_final_exported,test_data_final_exported= pickle.load(open('./data/data_for_model.pickle','rb'))"
   ]
  },
  {
   "cell_type": "markdown",
   "id": "60c9f8d5",
   "metadata": {},
   "source": [
    "# Testing using finetuned AlephBert"
   ]
  },
  {
   "cell_type": "code",
   "execution_count": null,
   "id": "c8e8f3b8",
   "metadata": {},
   "outputs": [],
   "source": [
    "from transformers import AutoTokenizer, TFAutoModelForSequenceClassification\n",
    "general_model_checkpoint = \"onlplab/alephbert-base\""
   ]
  },
  {
   "cell_type": "code",
   "execution_count": null,
   "id": "95c165c1",
   "metadata": {},
   "outputs": [],
   "source": [
    "tokenizer = AutoTokenizer.from_pretrained(general_model_checkpoint)"
   ]
  },
  {
   "cell_type": "code",
   "execution_count": null,
   "id": "3037bb5f",
   "metadata": {},
   "outputs": [],
   "source": [
    "test=test_data_final_exported[['row_text','clf']].copy()\n",
    "y_test=test.clf.values"
   ]
  },
  {
   "cell_type": "code",
   "execution_count": null,
   "id": "5e13fe44",
   "metadata": {},
   "outputs": [],
   "source": [
    "from datasets import Features, Value, ClassLabel,load_dataset,Dataset\n",
    "features_load = Features({'row_text': Value('string'), 'clf': ClassLabel(num_classes=2)})"
   ]
  },
  {
   "cell_type": "code",
   "execution_count": null,
   "id": "4f4644e4",
   "metadata": {},
   "outputs": [],
   "source": [
    "test_df=Dataset.from_pandas(test.reset_index(drop=True),features=features_load)"
   ]
  },
  {
   "cell_type": "code",
   "execution_count": null,
   "id": "b2cc294d",
   "metadata": {},
   "outputs": [],
   "source": [
    "def tokenize_function(example):\n",
    "    return tokenizer(example['row_text'])"
   ]
  },
  {
   "cell_type": "code",
   "execution_count": null,
   "id": "dfd08eb1",
   "metadata": {},
   "outputs": [],
   "source": [
    "tokenized_test = test_df.map(tokenize_function, batched=True)"
   ]
  },
  {
   "cell_type": "code",
   "execution_count": null,
   "id": "1cdee8b9",
   "metadata": {},
   "outputs": [],
   "source": [
    "from transformers import DataCollatorWithPadding\n",
    "data_collator = DataCollatorWithPadding(tokenizer=tokenizer, return_tensors=\"tf\")"
   ]
  },
  {
   "cell_type": "code",
   "execution_count": null,
   "id": "f2242fd4",
   "metadata": {},
   "outputs": [],
   "source": [
    "tf_test_dataset = tokenized_test.to_tf_dataset(\n",
    "    columns=[\"input_ids\",'token_type_ids',\"attention_mask\"],\n",
    "    label_cols=[\"clf\"],\n",
    "    shuffle=False,\n",
    "    collate_fn=data_collator,\n",
    "    batch_size=32,\n",
    ")"
   ]
  },
  {
   "cell_type": "code",
   "execution_count": null,
   "id": "bae54494",
   "metadata": {},
   "outputs": [],
   "source": [
    "finetuned_model = './models/aleph_bert_finetuned'"
   ]
  },
  {
   "cell_type": "code",
   "execution_count": null,
   "id": "e61813eb",
   "metadata": {
    "scrolled": false
   },
   "outputs": [],
   "source": [
    "from transformers import TFAutoModelForSequenceClassification\n",
    "from tensorflow.keras.optimizers.schedules import PolynomialDecay\n",
    "import random\n",
    "import tensorflow as tf\n",
    "from tensorflow.keras.optimizers import Adam\n",
    "\n",
    "batch_size = 32\n",
    "num_epochs = 5\n",
    "tf.keras.mixed_precision.set_global_policy('mixed_float16')\n",
    "\n",
    "model = TFAutoModelForSequenceClassification.from_pretrained(finetuned_model, num_labels=2)\n",
    "lr_scheduler = PolynomialDecay(\n",
    "    initial_learning_rate=1e-5, end_learning_rate=0.0, decay_steps=300\n",
    ")\n",
    "opt = Adam(learning_rate=lr_scheduler)\n",
    "loss = tf.keras.losses.SparseCategoricalCrossentropy(from_logits=True)\n",
    "model.compile(optimizer=opt, loss=loss)"
   ]
  },
  {
   "cell_type": "code",
   "execution_count": null,
   "id": "86b426cb",
   "metadata": {},
   "outputs": [],
   "source": [
    "preds = model.predict(tf_test_dataset)[\"logits\"]"
   ]
  },
  {
   "cell_type": "code",
   "execution_count": null,
   "id": "090ce3fe",
   "metadata": {},
   "outputs": [],
   "source": [
    "def logit_to_prob(logit):\n",
    "    odds= math.exp(logit)\n",
    "    return odds/(1+odds)\n",
    "\n",
    "y_prob_bert=[logit_to_prob(x) for x in preds[:,1]]"
   ]
  },
  {
   "cell_type": "code",
   "execution_count": null,
   "id": "9dde2f50",
   "metadata": {},
   "outputs": [],
   "source": [
    "fpr, tpr, _=roc_curve(y_test,y_prob_bert)\n",
    "roc_auc=auc(fpr, tpr)"
   ]
  },
  {
   "cell_type": "code",
   "execution_count": null,
   "id": "e1cbd993",
   "metadata": {
    "scrolled": true
   },
   "outputs": [],
   "source": [
    "plt.figure()\n",
    "lw = 2\n",
    "plt.plot(fpr, tpr, color='darkorange',\n",
    "         lw=lw, label='ROC curve (area = %0.3f)'% roc_auc)\n",
    "plt.plot([0, 1], [0, 1], color='navy', lw=lw, linestyle='--')\n",
    "plt.xlim([0.0, 1.0])\n",
    "plt.ylim([0.0, 1.05])\n",
    "plt.xlabel('False Positive Rate')\n",
    "plt.ylabel('True Positive Rate')\n",
    "plt.title('Receiver operating characteristic example')\n",
    "plt.legend(loc=\"lower right\")\n",
    "plt.show()"
   ]
  },
  {
   "cell_type": "markdown",
   "id": "49d1676b",
   "metadata": {},
   "source": [
    "# Testing using the FastText-LSTM model"
   ]
  },
  {
   "cell_type": "code",
   "execution_count": null,
   "id": "eacc0647",
   "metadata": {},
   "outputs": [],
   "source": [
    "from gensim.models import FastText\n",
    "fasttext_model=FastText.load('./models/medical_fast_text.model')"
   ]
  },
  {
   "cell_type": "code",
   "execution_count": null,
   "id": "5c6ebfb2",
   "metadata": {},
   "outputs": [],
   "source": [
    "X_test=test_data_final_exported.X.values\n",
    "y_test=test_data_final_exported.clf.values"
   ]
  },
  {
   "cell_type": "code",
   "execution_count": null,
   "id": "84bdcd07",
   "metadata": {},
   "outputs": [],
   "source": [
    "X_test_final=[]\n",
    "for x in X_test:\n",
    "    new_x=x.copy()\n",
    "    while len(new_x)<11:\n",
    "        new_x.append('nan_word')\n",
    "    X_test_final.append(new_x)"
   ]
  },
  {
   "cell_type": "code",
   "execution_count": null,
   "id": "1bff2846",
   "metadata": {},
   "outputs": [],
   "source": [
    "X_test_fasttext=[]\n",
    "for x in X_test_final:\n",
    "    row=[]\n",
    "    for word in x:\n",
    "        if word=='nan_word':\n",
    "            row.append([0]*300)\n",
    "        else:\n",
    "            row.append(fasttext_model.wv[word])\n",
    "    row=np.array(row)\n",
    "    X_test_fasttext.append(row)\n",
    "    "
   ]
  },
  {
   "cell_type": "code",
   "execution_count": null,
   "id": "9c76e90f",
   "metadata": {},
   "outputs": [],
   "source": [
    "X_test_fasttext=np.stack(X_test_fasttext)"
   ]
  },
  {
   "cell_type": "code",
   "execution_count": null,
   "id": "2a77688b",
   "metadata": {},
   "outputs": [],
   "source": [
    "from tensorflow.keras.utils import to_categorical\n",
    "from tensorflow.keras.models import Sequential\n",
    "from tensorflow.keras.layers import Dense, Input,Bidirectional,Dropout,Multiply\n",
    "from tensorflow.keras.layers import LSTM\n",
    "import tensorflow as tf\n",
    "callbacks = tf.keras.callbacks"
   ]
  },
  {
   "cell_type": "code",
   "execution_count": null,
   "id": "a34d0f89",
   "metadata": {},
   "outputs": [],
   "source": [
    "# The model architecture\n",
    "\n",
    "inputA = Input(shape=(X_test_fasttext.shape[1],X_test_fasttext.shape[2],))\n",
    "x = Bidirectional(LSTM(50, return_sequences=False))(inputA)\n",
    "x=Dropout(0.3)(x)\n",
    "x=Dense(10, activation='relu')(x)\n",
    "prefinal=Dense(5, activation='relu')(x)\n",
    "final = Dense(1, activation='sigmoid')(prefinal)\n",
    "model = tf.keras.Model(inputs=[inputA], outputs=final)"
   ]
  },
  {
   "cell_type": "code",
   "execution_count": null,
   "id": "f90f3680",
   "metadata": {},
   "outputs": [],
   "source": [
    "opt = tf.keras.optimizers.RMSprop(learning_rate=0.001)\n",
    "model.compile(optimizer=opt, loss='binary_crossentropy', metrics=['accuracy'])\n",
    "model.load_weights('./models/fast_text_best.hdf5')"
   ]
  },
  {
   "cell_type": "code",
   "execution_count": null,
   "id": "45f6e042",
   "metadata": {},
   "outputs": [],
   "source": [
    "fast_text_results=model.predict(X_test_fasttext)\n",
    "fpr, tpr, _=roc_curve(y_test,fast_text_results)\n",
    "roc_auc=auc(fpr, tpr)"
   ]
  },
  {
   "cell_type": "code",
   "execution_count": null,
   "id": "d8482536",
   "metadata": {
    "scrolled": true
   },
   "outputs": [],
   "source": [
    "plt.figure()\n",
    "lw = 2\n",
    "plt.plot(fpr, tpr, color='darkorange',\n",
    "         lw=lw, label='ROC curve (area = %0.3f)'% roc_auc)\n",
    "plt.plot([0, 1], [0, 1], color='navy', lw=lw, linestyle='--')\n",
    "plt.xlim([0.0, 1.0])\n",
    "plt.ylim([0.0, 1.05])\n",
    "plt.xlabel('False Positive Rate')\n",
    "plt.ylabel('True Positive Rate')\n",
    "plt.title('Receiver operating characteristic example')\n",
    "plt.legend(loc=\"lower right\")\n",
    "plt.show()"
   ]
  },
  {
   "cell_type": "markdown",
   "id": "f4ea400f",
   "metadata": {},
   "source": [
    "# Joined model"
   ]
  },
  {
   "cell_type": "code",
   "execution_count": null,
   "id": "c5f303a4",
   "metadata": {
    "scrolled": true
   },
   "outputs": [],
   "source": [
    "mean_prob=[(x+y)/2 for x,y in zip(fast_text_results,y_prob_bert)]"
   ]
  },
  {
   "cell_type": "code",
   "execution_count": null,
   "id": "572fca95",
   "metadata": {},
   "outputs": [],
   "source": [
    "y_pred_joined=[1 if y>=0.5 else 0 for y in mean_prob]"
   ]
  },
  {
   "cell_type": "code",
   "execution_count": null,
   "id": "3817f943",
   "metadata": {},
   "outputs": [],
   "source": [
    "fpr, tpr, _=roc_curve(y_test, mean_prob)\n",
    "roc_auc=auc(fpr, tpr)"
   ]
  },
  {
   "cell_type": "code",
   "execution_count": null,
   "id": "1eaa1f3d",
   "metadata": {
    "scrolled": false
   },
   "outputs": [],
   "source": [
    "plt.figure()\n",
    "lw = 2\n",
    "plt.plot(fpr, tpr, color='darkorange',\n",
    "         lw=lw, label='ROC curve (area = %0.3f)'% roc_auc)\n",
    "plt.plot([0, 1], [0, 1], color='navy', lw=lw, linestyle='--')\n",
    "plt.xlim([0.0, 1.0])\n",
    "plt.ylim([0.0, 1.05])\n",
    "plt.xlabel('False Positive Rate')\n",
    "plt.ylabel('True Positive Rate')\n",
    "plt.title('AUC of the ensemble model')\n",
    "plt.legend(loc=\"lower right\")\n",
    "plt.show()"
   ]
  },
  {
   "cell_type": "markdown",
   "id": "dc284d2b",
   "metadata": {},
   "source": [
    "# Compare the IrAEs predicted vs Labeled"
   ]
  },
  {
   "cell_type": "code",
   "execution_count": null,
   "id": "6da30f70",
   "metadata": {},
   "outputs": [],
   "source": [
    "_, test_data=pickle.load(open('./data/data_for_model.pickle','rb'))"
   ]
  },
  {
   "cell_type": "code",
   "execution_count": null,
   "id": "35450a7d",
   "metadata": {},
   "outputs": [],
   "source": [
    "test_data['predicted']=y_pred_joined"
   ]
  },
  {
   "cell_type": "markdown",
   "id": "3ddaf324",
   "metadata": {},
   "source": [
    "## Predicted results including the use of clustering"
   ]
  },
  {
   "cell_type": "code",
   "execution_count": null,
   "id": "7e89b325",
   "metadata": {},
   "outputs": [],
   "source": [
    "# Extract all phrases predicted to contain positive mentions of an IrAE using the prediction models\n",
    "IrAE_predicted= test_data[['PatNum','itis_category','Note_id','Entry_Date']].loc[test_data.predicted==1].copy()"
   ]
  },
  {
   "cell_type": "code",
   "execution_count": null,
   "id": "05a8c7b6",
   "metadata": {},
   "outputs": [],
   "source": [
    "# Remove cases where the same IrAE is mentioned twice in the same note\n",
    "IrAE_predicted=IrAE_predicted.drop_duplicates()"
   ]
  },
  {
   "cell_type": "code",
   "execution_count": null,
   "id": "a3aa6fc1",
   "metadata": {
    "scrolled": true
   },
   "outputs": [],
   "source": [
    "# Patients were considered to have an IrAE if there were at least two notes mentioning the condition\n",
    "predicted_IrAE_dict={}\n",
    "for IrAE in IrAE_predicted.itis_category.unique():\n",
    "        IrAE_data=IrAE_predicted.loc[IrAE_predicted.itis_category==IrAE].copy()\n",
    "        IrAE_data=IrAE_data.groupby(by=['PatNum']).count().reset_index()\n",
    "        more_than_1=IrAE_data.loc[IrAE_data.itis_category>1].copy()\n",
    "        predicted_IrAE_dict[IrAE]=more_than_1.PatNum.unique()"
   ]
  },
  {
   "cell_type": "markdown",
   "id": "79ee26a7",
   "metadata": {},
   "source": [
    "## Results according to physician labeling"
   ]
  },
  {
   "cell_type": "code",
   "execution_count": null,
   "id": "faece75a",
   "metadata": {},
   "outputs": [],
   "source": [
    "# Extract all phrases that were labeled by a physician to contain an IrAE \n",
    "IrAE_true= test_data[['PatNum','itis_category','Note_id','Entry_Date']].loc[test_data.clf==1].copy()"
   ]
  },
  {
   "cell_type": "code",
   "execution_count": null,
   "id": "08741957",
   "metadata": {},
   "outputs": [],
   "source": [
    "# Remove cases where the same IrAE is mentioned twice in the same note\n",
    "IrAE_true=IrAE_true.drop_duplicates()"
   ]
  },
  {
   "cell_type": "code",
   "execution_count": null,
   "id": "022f6e6b",
   "metadata": {
    "scrolled": true
   },
   "outputs": [],
   "source": [
    "# Patients were considered to have an IrAE if there were at least two notes mentioning the condition\n",
    "true_IrAE_dict={}\n",
    "for IrAE in IrAE_true.itis_category.unique():\n",
    "        IrAE_data=IrAE_true.loc[IrAE_true.itis_category==IrAE].copy()\n",
    "        IrAE_data=IrAE_data.groupby(by=['PatNum']).count().reset_index()\n",
    "        more_than_1=IrAE_data.loc[IrAE_data.itis_category>1].copy()\n",
    "        true_IrAE_dict[IrAE]=more_than_1.PatNum.unique()"
   ]
  },
  {
   "cell_type": "markdown",
   "id": "cc0a6223",
   "metadata": {},
   "source": [
    "## Sensitivity, specificity, accuracy and F1 score"
   ]
  },
  {
   "cell_type": "code",
   "execution_count": null,
   "id": "7714a156",
   "metadata": {},
   "outputs": [],
   "source": [
    "_,test_patients=pickle.load(open('./data/train_test_patients.pickle','rb'))\n",
    "all_patients=len(test_patients)\n",
    "results=[]\n",
    "for IrAE in true_IrAE_dict:\n",
    "    real=true_IrAE_dict[IrAE]\n",
    "    predicted=predicted_IrAE_dict[IrAE]\n",
    "    TP=sum([1 if x in real else 0 for x in predicted])\n",
    "    FP=len(predicted)-TP\n",
    "    FN=len(real)-TP\n",
    "    TN=all_patients-len(real)-FP\n",
    "    sensitivity=TP/len(real)\n",
    "    specificity=TN/(TN+FP)\n",
    "    precision=TP/(TP+FP)\n",
    "    f1=2*(precision*sensitivity)/(precision+sensitivity)\n",
    "    accuracy=(TN+TP)/all_patients\n",
    "    results.append([IrAE,sensitivity, specificity,f1,accuracy])\n",
    "    \n",
    "results=pd.DataFrame(results, columns=['IrAE','sensitivity', 'specificity','f1','accuracy'])"
   ]
  },
  {
   "cell_type": "code",
   "execution_count": null,
   "id": "b126c11d",
   "metadata": {},
   "outputs": [],
   "source": [
    "print(results)"
   ]
  },
  {
   "cell_type": "code",
   "execution_count": null,
   "id": "c7137143",
   "metadata": {},
   "outputs": [],
   "source": []
  }
 ],
 "metadata": {
  "kernelspec": {
   "display_name": "Python 3 (ipykernel)",
   "language": "python",
   "name": "python3"
  },
  "language_info": {
   "codemirror_mode": {
    "name": "ipython",
    "version": 3
   },
   "file_extension": ".py",
   "mimetype": "text/x-python",
   "name": "python",
   "nbconvert_exporter": "python",
   "pygments_lexer": "ipython3",
   "version": "3.9.7"
  },
  "toc": {
   "base_numbering": 1,
   "nav_menu": {},
   "number_sections": true,
   "sideBar": true,
   "skip_h1_title": false,
   "title_cell": "Table of Contents",
   "title_sidebar": "Contents",
   "toc_cell": false,
   "toc_position": {},
   "toc_section_display": true,
   "toc_window_display": false
  }
 },
 "nbformat": 4,
 "nbformat_minor": 5
}
