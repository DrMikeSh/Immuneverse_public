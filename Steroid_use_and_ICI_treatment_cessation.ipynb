{
 "cells": [
  {
   "cell_type": "code",
   "execution_count": null,
   "id": "73273315",
   "metadata": {},
   "outputs": [],
   "source": [
    "import pandas as pd\n",
    "import numpy as np\n",
    "import pickle"
   ]
  },
  {
   "cell_type": "markdown",
   "id": "aad1a323",
   "metadata": {},
   "source": [
    "# Get all the data"
   ]
  },
  {
   "cell_type": "code",
   "execution_count": null,
   "id": "c5929a09",
   "metadata": {},
   "outputs": [],
   "source": [
    "train_data, test_data=pickle.load(open('./data/data_for_model.pickle','rb'))"
   ]
  },
  {
   "cell_type": "code",
   "execution_count": null,
   "id": "016a4438",
   "metadata": {},
   "outputs": [],
   "source": [
    "joined_data=pd.concat([train_data,test_data])"
   ]
  },
  {
   "cell_type": "code",
   "execution_count": null,
   "id": "10506103",
   "metadata": {},
   "outputs": [],
   "source": [
    "joined_data=joined_data.dropna(subset=['Entry_Date'])"
   ]
  },
  {
   "cell_type": "code",
   "execution_count": null,
   "id": "2e9726d5",
   "metadata": {},
   "outputs": [],
   "source": [
    "joined_data['Entry_Date']=pd.to_datetime(joined_data['Entry_Date'])"
   ]
  },
  {
   "cell_type": "code",
   "execution_count": null,
   "id": "d23b4c6d",
   "metadata": {},
   "outputs": [],
   "source": [
    "joined_data=joined_data.sort_values(by=['Entry_Date'])"
   ]
  },
  {
   "cell_type": "code",
   "execution_count": null,
   "id": "e18a7c08",
   "metadata": {},
   "outputs": [],
   "source": [
    "# Get the first report date of the IrAE. This is the date of the first note to be classified as positive\n",
    "IrAE_first_date=pd.DataFrame()\n",
    "for IrAE in joined_data.itis_category.unique():\n",
    "    IrAE_data=joined_data.loc[joined_data.itis_category==IrAE].copy()\n",
    "    grouped = IrAE_data.groupby('PatNum')['Entry_Date'].count()\n",
    "    filtered_groups = grouped[grouped > 1]\n",
    "    # Get the first entry date for each patient\n",
    "    result = IrAE_data[IrAE_data['PatNum'].isin(filtered_groups.index)].groupby('PatNum')['Entry_Date'].first().reset_index()\n",
    "    result['itis_category']=IrAE\n",
    "    IrAE_first_date=pd.concat([IrAE_first_date,result])"
   ]
  },
  {
   "cell_type": "code",
   "execution_count": null,
   "id": "476b2b8a",
   "metadata": {},
   "outputs": [],
   "source": [
    "id_to_drug=pd.read_csv(r'./data/Id_to_drug.csv', parse_dates=['min_date','max_added'], index_col=0)"
   ]
  },
  {
   "cell_type": "markdown",
   "id": "9051cd90",
   "metadata": {},
   "source": [
    "# Steroid use"
   ]
  },
  {
   "cell_type": "markdown",
   "id": "c2139854",
   "metadata": {},
   "source": [
    "* Data was extracted about treatment woth medications containing the following generic substances: Prednisone,Prednisolone,Dexamethasone,Methylprednisolone,Hydrocortisone\n",
    "* Oral or IV routes only, with a dose of at least 20mg of prednisone or equivalent\n",
    "* Summerized in the file steroids_immune_patients.csv containing the Execution_Date and the PatNum.  "
   ]
  },
  {
   "cell_type": "code",
   "execution_count": null,
   "id": "ddc09447",
   "metadata": {},
   "outputs": [],
   "source": [
    "steroid_treatment=pd.read_csv(r'./data/steroids_immune_patients.csv',low_memory=False, index_col=0)"
   ]
  },
  {
   "cell_type": "code",
   "execution_count": null,
   "id": "979387b7",
   "metadata": {},
   "outputs": [],
   "source": [
    "steroid_treatment.Execution_Date=pd.to_datetime(steroid_treatment.Execution_Date)"
   ]
  },
  {
   "cell_type": "code",
   "execution_count": null,
   "id": "45b72477",
   "metadata": {
    "scrolled": false
   },
   "outputs": [],
   "source": [
    "# Get patient with at least one prescription of relevant corticosteroid treatment within 14 days of the IrAE diagnosis\n",
    "results=[]\n",
    "for row in IrAE_first_date.itertuples():\n",
    "    steroid_rel=steroid_treatment.loc[steroid_treatment.PatNum==row.PatNum].copy()\n",
    "    steroid_rel=steroid_rel.loc[steroid_rel.Execution_Date.between(row.Entry_Date,row.Entry_Date+np.timedelta64(14,'D'))]\n",
    "    results.append([row.PatNum,row.itis_category,steroid_rel.shape[0]>0])\n",
    "results=pd.DataFrame(results,columns=['PatNum','itis_category','steroid_treatment'])"
   ]
  },
  {
   "cell_type": "code",
   "execution_count": null,
   "id": "c4dfdc8b",
   "metadata": {},
   "outputs": [],
   "source": [
    "results=results.merge(id_to_drug[['PatNum','drug']], how='left')"
   ]
  },
  {
   "cell_type": "code",
   "execution_count": null,
   "id": "946f108f",
   "metadata": {
    "scrolled": true
   },
   "outputs": [],
   "source": [
    "print(results.loc[results.steroid_treatment==True].groupby(['drug','itis_category'])['PatNum'].count())"
   ]
  },
  {
   "cell_type": "markdown",
   "id": "33ebaa96",
   "metadata": {},
   "source": [
    "# ICI cessation"
   ]
  },
  {
   "cell_type": "code",
   "execution_count": null,
   "id": "77bb4d56",
   "metadata": {},
   "outputs": [],
   "source": [
    "ICI_stopping=IrAE_first_date.merge(id_to_drug[['PatNum','min_date','max_added','drug']], on=['PatNum'], how='left')"
   ]
  },
  {
   "cell_type": "code",
   "execution_count": null,
   "id": "92a08d2f",
   "metadata": {},
   "outputs": [],
   "source": [
    "ICI_stopping.head()"
   ]
  },
  {
   "cell_type": "code",
   "execution_count": null,
   "id": "745c9b2c",
   "metadata": {
    "scrolled": false
   },
   "outputs": [],
   "source": [
    "ICI_stopping['max_date']=ICI_stopping.max_added-pd.DateOffset(months=3)"
   ]
  },
  {
   "cell_type": "code",
   "execution_count": null,
   "id": "1548b3ce",
   "metadata": {},
   "outputs": [],
   "source": [
    "# get patients whose last dose of ICI was in the month before the IrAE \n",
    "# meaning that after the IrAE they did not get an additional dose. \n",
    "ICI_stopping=ICI_stopping.loc[ICI_stopping.Entry_Date.between(ICI_stopping.max_date-np.timedelta64(30,'D'),ICI_stopping.max_date)]"
   ]
  },
  {
   "cell_type": "code",
   "execution_count": null,
   "id": "910caac4",
   "metadata": {},
   "outputs": [],
   "source": [
    "ICI_stopping.groupby(['drug','itis_category'])['PatNum'].count()"
   ]
  }
 ],
 "metadata": {
  "kernelspec": {
   "display_name": "Python 3 (ipykernel)",
   "language": "python",
   "name": "python3"
  },
  "language_info": {
   "codemirror_mode": {
    "name": "ipython",
    "version": 3
   },
   "file_extension": ".py",
   "mimetype": "text/x-python",
   "name": "python",
   "nbconvert_exporter": "python",
   "pygments_lexer": "ipython3",
   "version": "3.9.7"
  },
  "toc": {
   "base_numbering": 1,
   "nav_menu": {},
   "number_sections": true,
   "sideBar": true,
   "skip_h1_title": false,
   "title_cell": "Table of Contents",
   "title_sidebar": "Contents",
   "toc_cell": false,
   "toc_position": {},
   "toc_section_display": true,
   "toc_window_display": false
  }
 },
 "nbformat": 4,
 "nbformat_minor": 5
}
